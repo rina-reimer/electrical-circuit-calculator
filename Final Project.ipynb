{
 "cells": [
  {
   "cell_type": "code",
   "execution_count": null,
   "id": "bd331fa0",
   "metadata": {},
   "outputs": [],
   "source": [
    "import numpy as np\n",
    "import pandas as pd\n",
    "from scipy.linalg import lu_factor, lu_solve\n",
    "from scipy.linalg import qr, solve_triangular\n",
    "import schemdraw\n",
    "import schemdraw.elements as elm"
   ]
  },
  {
   "cell_type": "markdown",
   "id": "fd726464",
   "metadata": {},
   "source": [
    "# Here is where I import the data and format it into multiple data structures.\n",
    "This first block is where I read the data and set up the coordinate dictionary\n",
    "\n",
    "## Completed at the end of this block: \n",
    "* Data is in an numpy array of strings (data)\n",
    "* The number of nodes is stored in an int (num_nodes)\n",
    "* Coordinates are stored in a dictionary (coord)\n",
    "    * keys: node_ids as strings \n",
    "    * values: lists of doubles\n",
    "* Node IDs in a list at the same indices as in the dictionary (node_ids)\n",
    "* Processed lines from data array are removed"
   ]
  },
  {
   "cell_type": "code",
   "execution_count": null,
   "id": "ace408c3",
   "metadata": {
    "scrolled": true
   },
   "outputs": [],
   "source": [
    "file_name = \"test3.txt\"\n",
    "data = np.array(open(\"test-data/\"+file_name, \"r\").readlines()) # Data imported into a numpy array\n",
    "\n",
    "num_nodes = int(data[0].replace(\"\\n\",\"\")) # The first value is the number of nodes\n",
    "coord = {} # Stores all of the coordinates in a dictionary sorted by the node_id\n",
    "node_ids = [] # List so index of the node_id can be accessed in the dictionary\n",
    "\n",
    "# Removes the spaces in the array\n",
    "for i in range(1, num_nodes+1):\n",
    "    coord.update({data[i].split(\" \")[0]: data[i].split(\" \")[1:]}) \n",
    "    node_ids.append(data[i].split(\" \")[0]) # The node_id is appended to the node_ids list\n",
    "\n",
    "\n",
    "# Removes the \"\\n\" and type-casts all values to ints\n",
    "for i in coord:\n",
    "    for j in range(len(coord.get(i))):\n",
    "        coord.get(i)[j] = float(coord.get(i)[j].replace(\"\\n\",\"\"))\n",
    "print(\"What the coordinate dictionary looks like currently: \\n\" + str(coord))\n",
    "data = np.delete(data, np.arange(0, num_nodes + 1)) # Removes processed data from the array\n"
   ]
  },
  {
   "cell_type": "markdown",
   "id": "74cbb969",
   "metadata": {},
   "source": [
    "\n",
    "\n",
    "## At the end of this block:\n",
    "\n",
    "* The number of edges is stored in an int (num_edges)\n",
    "* Node-Arc Incidence Matrix stored in a numpy array (a)\n",
    "    * Start node is denoted by -1, end node is denoted by 1\n",
    "    * Rows represent edges, columns represent nodes\n",
    "* Resistance Matrix stored in a numpy array (r)\n",
    "    * Resistances on the diagonal, square matrix of edges\n",
    "* Source connections stored in a dictionary (source_connect)\n",
    "    * Index of row in Node-Arc Incidence Matrix as key\n",
    "    * Replacement value as values\n",
    "* Source Node stored as a list of the ID and the voltage (v0)\n",
    "* Sink Node stored as a string of the node ID (sink)"
   ]
  },
  {
   "cell_type": "code",
   "execution_count": null,
   "id": "7760e31f",
   "metadata": {},
   "outputs": [],
   "source": [
    "num_edges = int(data[0]) # The first remaining value is the number of edges\n",
    "data = np.delete(data, 0) # Since it has been processed, it's safe to be removed\n",
    "a = np.zeros((num_edges, num_nodes)) # The node-arc incidence matrix\n",
    "r = np.diagflat(np.ones(num_edges)) # The resistance matrix\n",
    "source_connect = {} # Keeps track of where the source connects to update the rhs later\n",
    "\n",
    "v0 = [data[num_edges].split(\" \")[0], int(data[num_edges].split(\" \")[-1])] # Source node\n",
    "sink = data[num_edges+1].split(\" \")[0].replace(\"\\n\", \"\") # Sink node\n",
    "for i in range(0, num_edges):\n",
    "    curr = data[i].split(\" \") # Creates a list that can be more easily accessed\n",
    "    start = int(node_ids.index(curr[0])) # Start node_id index of the edge\n",
    "    end = int(node_ids.index(curr[1])) # End node_id index of the edge\n",
    "    \n",
    "    a[i, start] = -1 # Updates start node in the node-arc array\n",
    "    a[i, end] = 1 # Updates end node in the node-arc array\n",
    "    \n",
    "    \n",
    "    if (curr[0] == v0[0]): # If the source node is the start of the current edge\n",
    "        source_connect.update({i : v0[1]})\n",
    "    if (curr[1] == v0[0]): # If the source node is the end of the current edge\n",
    "        source_connect.update({i : -v0[1]})\n",
    "    \n",
    "    resistance = int(curr[2].replace(\"\\n\",\"\")) # resistance of the current edge\n",
    "    r[i] = r[i] * resistance # Updates the edge in the resistance array\n",
    "\n",
    "print(\"Node-arc Incidence Matrix: \\n\"+str(a)+\"\\n\")\n",
    "print(\"Resistance Matrix: \\n\"+str(r)+\"\\n\")\n",
    "print(\"Source-Connection Dictionary: \"+str(source_connect))\n"
   ]
  },
  {
   "cell_type": "markdown",
   "id": "035a261b",
   "metadata": {},
   "source": [
    "\n",
    "Checking the Source and Sink variables:\n"
   ]
  },
  {
   "cell_type": "code",
   "execution_count": null,
   "id": "605b6087",
   "metadata": {
    "scrolled": true
   },
   "outputs": [],
   "source": [
    "print(\"Source Index:\",v0[0],\"at coordinates\", coord.get(v0[0]), \"with\", v0[1], \"volts\")\n",
    "print(\"Sink Index:\", sink, \"at coordinates\", coord.get(sink))\n"
   ]
  },
  {
   "cell_type": "markdown",
   "id": "6067d65a",
   "metadata": {},
   "source": [
    "## Schematic from data reading"
   ]
  },
  {
   "cell_type": "code",
   "execution_count": null,
   "id": "b2cfbe6b",
   "metadata": {},
   "outputs": [],
   "source": [
    "schematic = schemdraw.Drawing() # Instantiates the drawing\n",
    "ynew = 4\n",
    "if (coord.get(v0[0])[1] < 0):\n",
    "    ynew = -4\n",
    "schematic += elm.SourceV().endpoints(coord.get(v0[0]), (coord.get(v0[0])[0], \n",
    "coord.get(v0[0])[1]+ynew)).label(str(v0[1])+'V') # Creates the source at the v0 node\n",
    "\n",
    "for i in coord.keys():\n",
    "    schematic += elm.Line().endpoints(coord.get(i), \n",
    "    coord.get(i)).label(i, color = \"#48cae4\", loc = \"center\") \n",
    "    # Creates a node at each coordinate\n",
    "schematic += elm.Ground().at(coord.get(sink)) # Creates the sink node at the given node_id\n",
    "\n",
    "for i in range(num_edges):\n",
    "    index=[coord.get(node_ids[list(a[i]).index(-1)]),coord.get(node_ids[list(a[i]).index(1)])]\n",
    "    schematic += (R1 := elm.Resistor().endpoints(index[0], index[1])) \n",
    "    # Resistance is found at the diagonal of the given indices\n",
    "    schematic += elm.CurrentLabelInline(direction='in').at(R1).label('$'+\n",
    "            str(int(r[i,i]))+'\\Omega$', rotate = True , color = \"#023e8a\")\n",
    "    # Resistance is found at the diagonal of the given \n",
    "schematic.draw()\n"
   ]
  },
  {
   "cell_type": "markdown",
   "id": "12818324",
   "metadata": {},
   "source": [
    "# Concatenating the matrices\n",
    "* The original linear system is\n",
    "$$\\begin{pmatrix}A & R\\cr 0 & A^T\\cr\\end{pmatrix}\n",
    "\\begin{pmatrix}v\\cr c\\cr\\end{pmatrix}=0\\newline$$\n",
    "\n",
    "\n",
    "* However,  $v_0$ and $v_n$ are already known, so the columns of the Node-Arc Incidence Matrix and transfer them to the zero vector\n",
    "    * Using the source connection dictionary, the corresponding rows of the zero vector are updated to include the source voltage\n",
    "* The source and sink currents do not sum to zero, so the corresponding rows are removed"
   ]
  },
  {
   "cell_type": "code",
   "execution_count": null,
   "id": "01d573fb",
   "metadata": {},
   "outputs": [],
   "source": [
    "a1 = np.delete(a, [node_ids.index(v0[0]), node_ids.index(sink)], axis = 1)\n",
    "arr1 = np.concatenate([a1,r], axis = 1, dtype = float) # Top row of the array is concatenated\n",
    "arr2 = np.concatenate([np.zeros((num_nodes-2, num_nodes-2)), a1.T], axis = 1, dtype = float) \n",
    "# Bottom row of the array is concatenated\n",
    "arr = np.concatenate([arr1, arr2], axis = 0, dtype = float) # Top and bottom rows concatenated\n",
    "rhs = np.zeros(num_nodes + num_edges - 2) # Solution is 0s\n",
    "start_node = [node_ids.index(v0[0])]\n",
    "# Fix the rhs using the source_connect dictionary\n",
    "for i in source_connect:\n",
    "    rhs[i] = source_connect.get(i)\n",
    "\n",
    "#rhs[:4] = rhs[:4] - (a[:, node_ids.index(v0[0])]) * v0[1]\n",
    "\n",
    "print(arr)  \n",
    "print(rhs)\n"
   ]
  },
  {
   "cell_type": "code",
   "execution_count": null,
   "id": "f98ff8a2",
   "metadata": {},
   "outputs": [],
   "source": [
    "print(\"Source Connect Dictionary: \"+str(source_connect))\n",
    "print(\"Updated Zero Vector: \"+str(rhs))"
   ]
  },
  {
   "cell_type": "markdown",
   "id": "d972070b",
   "metadata": {},
   "source": [
    "# Singular Value Decomposition of System"
   ]
  },
  {
   "cell_type": "code",
   "execution_count": null,
   "id": "f809dd6c",
   "metadata": {
    "scrolled": false
   },
   "outputs": [],
   "source": [
    "# Singular Value Decomposition\n",
    "u, s, vt = np.linalg.svd(arr)\n",
    "utb = u.T @ rhs / s\n",
    "soln = sum(utb[i] * vt[i] for i in range(len(utb)))\n",
    "\n",
    "# Formatting the voltages\n",
    "if (node_ids.index(v0[0]) < node_ids.index(sink)):\n",
    "    voltages = soln[:node_ids.index(v0[0])] # Everything before the source node\n",
    "    voltages = np.append(voltages, v0[1]) # Source node\n",
    "    voltages = np.append(voltages, soln[node_ids.index(v0[0]):node_ids.index(sink)-1]) \n",
    "    # Between\n",
    "    voltages = np.append(voltages, 0) # Sink node\n",
    "    voltages = np.append(voltages, soln[node_ids.index(sink)-1:num_nodes-2]) \n",
    "    # Everything before the sink node\n",
    "else:\n",
    "    voltages = soln[:node_ids.index(sink)] # Everything before the source node\n",
    "    voltages = np.append(voltages, 0) # Source node\n",
    "    voltages = np.append(voltages, soln[node_ids.index(sink):node_ids.index(v0[0])-1]) \n",
    "    # Between\n",
    "    voltages = np.append(voltages, v0[1]) # Sink node\n",
    "    voltages = np.append(voltages, soln[node_ids.index(v0[0])-1:num_nodes-2]) \n",
    "    # Everything before the sink node\n",
    "\n",
    "currents = soln[num_nodes-2:] # Currents\n",
    "\n",
    "# Printing the x vector to check\n",
    "print(\"Voltages\")\n",
    "for i in range(num_nodes):\n",
    "    print(node_ids[i], str(voltages[i]), \"volts\")\n",
    "print(\"\\nCurrents\")\n",
    "for i in range(num_edges):\n",
    "    print(node_ids[list(a[i]).index(-1)], \"-->\", node_ids[list(a[i]).index(1)], currents[i], \"amps\")\n",
    "    "
   ]
  },
  {
   "cell_type": "markdown",
   "id": "1f228498",
   "metadata": {},
   "source": [
    "# Definition of the Schematic Drawing"
   ]
  },
  {
   "cell_type": "code",
   "execution_count": null,
   "id": "1eefe801",
   "metadata": {},
   "outputs": [],
   "source": [
    "def draw_schem(vers, schematic):\n",
    "    ynew = 4\n",
    "    if (coord.get(v0[0])[1] < 0):\n",
    "        ynew = -4\n",
    "    schematic += elm.SourceV().endpoints(coord.get(v0[0]), (coord.get(v0[0])[0], \n",
    "    coord.get(v0[0])[1]+ynew)).label(str(v0[1])+'V') \n",
    "    # Creates the source at the v0 node\n",
    "    for i in coord.keys(): # Node IDs\n",
    "        if vers.lower() == \"voltage\":\n",
    "            schematic += elm.Line().endpoints(coord.get(i), coord.get(i)).label(i+\n",
    "            \" - \"+str(voltages[node_ids.index(i)])[:3]+\"V\", color = \"#48cae4\", loc = \"center\")\n",
    "        else :\n",
    "            schematic += elm.Line().endpoints(coord.get(i), coord.get(i)).label(i,\n",
    "                                                color = \"#48cae4\", loc = \"center\") \n",
    "        # Creates a node at each coordinate\n",
    "        schematic += elm.Ground().at(coord.get(sink)) \n",
    "        # Creates the sink node at the given node_id\n",
    "    \n",
    "    for i in range(num_edges): \n",
    "        index=[coord.get(node_ids[list(a[i]).index(-1)]),\n",
    "                coord.get(node_ids[list(a[i]).index(1)])]\n",
    "            # Index of edges found by which indices of the node-arc array are -1 and 1\n",
    "        if vers.lower() == \"current\":\n",
    "            schematic += (R1 := elm.Resistor().endpoints(index[0], index[1])).label('$'+\n",
    "            str(int(r[i,i]))+'\\Omega$', loc = \"bottom\", color = \"#023e8a\") \n",
    "            # Resistance is found at the diagonal of the given indices\n",
    "            schematic += elm.CurrentLabelInline(direction='in').at(R1).label(\n",
    "                str(currents[i])[:5], color = \"#0096c7\", rotate = True)\n",
    "        else:\n",
    "            schematic += (R1 := elm.Resistor().endpoints(index[0], index[1]))\n",
    "\n",
    "    return schematic"
   ]
  },
  {
   "cell_type": "markdown",
   "id": "aba91137",
   "metadata": {},
   "source": [
    "## Voltage Drawing"
   ]
  },
  {
   "cell_type": "code",
   "execution_count": null,
   "id": "3b0ac1ca",
   "metadata": {},
   "outputs": [],
   "source": [
    "draw_schem(\"voltage\", schemdraw.Drawing()).draw()"
   ]
  },
  {
   "cell_type": "markdown",
   "id": "46566b0a",
   "metadata": {},
   "source": [
    "## Current Drawing"
   ]
  },
  {
   "cell_type": "code",
   "execution_count": null,
   "id": "3efe20b1",
   "metadata": {},
   "outputs": [],
   "source": [
    "draw_schem(\"current\", schemdraw.Drawing()).draw()"
   ]
  },
  {
   "cell_type": "markdown",
   "id": "1669a274",
   "metadata": {},
   "source": [
    "# Verification:\n",
    "The voltage drop along each edge is equal to the current times the resistance\n",
    "\n",
    "$$Av=-Rc$$"
   ]
  },
  {
   "cell_type": "code",
   "execution_count": null,
   "id": "90f66ef6",
   "metadata": {},
   "outputs": [],
   "source": [
    "print(\"Predicted: \" + str(a @ voltages)+\"\\n\")\n",
    "print(\"Expected: \"+str(-r @ currents)+\"\\n\")\n",
    "print(\"Residuals: \"+str(a @ voltages + r @ currents))"
   ]
  },
  {
   "cell_type": "markdown",
   "id": "ea028a9a",
   "metadata": {},
   "source": [
    "* The sum of the currents flowing into each node must be zero\n",
    "\n",
    "$$A^Tc=0$$"
   ]
  },
  {
   "cell_type": "code",
   "execution_count": null,
   "id": "fb9b96cd",
   "metadata": {},
   "outputs": [],
   "source": [
    "print(\"Residuals: \" + str(a1.T @ currents) +\"\\n\")"
   ]
  }
 ],
 "metadata": {
  "kernelspec": {
   "display_name": "Python 3 (ipykernel)",
   "language": "python",
   "name": "python3"
  },
  "language_info": {
   "codemirror_mode": {
    "name": "ipython",
    "version": 3
   },
   "file_extension": ".py",
   "mimetype": "text/x-python",
   "name": "python",
   "nbconvert_exporter": "python",
   "pygments_lexer": "ipython3",
   "version": "3.10.9"
  }
 },
 "nbformat": 4,
 "nbformat_minor": 5
}
